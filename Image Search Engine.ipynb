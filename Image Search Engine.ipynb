{
 "cells": [
  {
   "cell_type": "markdown",
   "id": "ab74f91a-983d-4e65-afef-eab9c7e880ca",
   "metadata": {},
   "source": [
    "#### Image Search Engine "
   ]
  },
  {
   "cell_type": "code",
   "execution_count": null,
   "id": "d8ee0467-a519-41c4-9a08-62637fc36211",
   "metadata": {},
   "outputs": [],
   "source": []
  }
 ],
 "metadata": {
  "kernelspec": {
   "display_name": "Python 3 (ipykernel)",
   "language": "python",
   "name": "python3"
  },
  "language_info": {
   "codemirror_mode": {
    "name": "ipython",
    "version": 3
   },
   "file_extension": ".py",
   "mimetype": "text/x-python",
   "name": "python",
   "nbconvert_exporter": "python",
   "pygments_lexer": "ipython3",
   "version": "3.12.7"
  }
 },
 "nbformat": 4,
 "nbformat_minor": 5
}
